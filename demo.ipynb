{
 "cells": [
  {
   "cell_type": "code",
   "execution_count": 119,
   "metadata": {},
   "outputs": [],
   "source": [
    "from Crawl.demo import *\n",
    "from selenium.webdriver.support.ui import WebDriverWait, Select"
   ]
  },
  {
   "cell_type": "code",
   "execution_count": 120,
   "metadata": {},
   "outputs": [],
   "source": [
    "def open_web():\n",
    "    cre= load_json()\n",
    "    if cre[\"download_path\"] == \"\" or \"chrome\" in cre[\"tool\"].lower():\n",
    "        driver = load_chrome()\n",
    "        cre[\"download_path\"] = DOWNLOAD_PATH\n",
    "    else:\n",
    "        driver = load_edge(download_path= cre[\"download_path\"])\n",
    "    driver.get(cre[\"url\"])\n",
    "    return driver, cre"
   ]
  },
  {
   "cell_type": "code",
   "execution_count": 121,
   "metadata": {},
   "outputs": [],
   "source": [
    "driver, cre = open_web()"
   ]
  },
  {
   "cell_type": "code",
   "execution_count": 122,
   "metadata": {},
   "outputs": [],
   "source": [
    "name = wait_element(driver=driver, timeout=10,key=\"username\",by=\"name\")\n",
    "name.send_keys(cre[\"name\"])\n",
    "pw= driver.find_element(By.NAME, \"password\")\n",
    "pw.send_keys(cre[\"pw\"])\n",
    "login = wait_element(driver=driver, timeout=10,key=\"login100-form-btn\",by=\"class\")\n",
    "login.click()"
   ]
  },
  {
   "cell_type": "code",
   "execution_count": 124,
   "metadata": {},
   "outputs": [],
   "source": [
    "items = driver.find_elements(By.CLASS_NAME, value=\"item-hosodiachinh\")\n",
    "item = items[0].find_element(By.CLASS_NAME, value=\"title\")\n",
    "item.click()"
   ]
  },
  {
   "cell_type": "code",
   "execution_count": 125,
   "metadata": {},
   "outputs": [
    {
     "data": {
      "text/plain": [
       "[<selenium.webdriver.remote.webelement.WebElement (session=\"ac8e17b6df4ce1639f33ad6e4f66d1b2\", element=\"f.5593766A053BADBA962E04F7DFC46160.d.AEF902FF5F272CC4B83EBA607FDF8693.e.143\")>]"
      ]
     },
     "execution_count": 125,
     "metadata": {},
     "output_type": "execute_result"
    }
   ],
   "source": [
    "files = driver.find_elements(By.CLASS_NAME, value=\"group-hosoquet.list-group\")\n",
    "files"
   ]
  },
  {
   "cell_type": "code",
   "execution_count": 136,
   "metadata": {},
   "outputs": [],
   "source": [
    "for file in files:\n",
    "    link = file.find_element(By.NAME, value=\"hosoquet\")\n",
    "    url = f\"https://khh.mplis.gov.vn/dc/PdfViewer?fileId={link.get_attribute('nodeid')}\"\n",
    "    driver.execute_script(\"window.open('');\")\n",
    "    driver.switch_to.window(driver.window_handles[1])\n",
    "    driver.get(url)\n",
    "    save = wait_element(driver=driver,timeout=20,key=\"body\",by=\"tag\")\n",
    "    time.sleep(3)\n",
    "    save.send_keys(Keys.CONTROL + 's')\n",
    "    time.sleep(1)\n",
    "    driver.execute_script(\"window.close();\")\n",
    "    driver.switch_to.window(driver.window_handles[0])"
   ]
  },
  {
   "cell_type": "markdown",
   "metadata": {},
   "source": [
    "# TraCuuThuaDat\n",
    "https://khh.mplis.gov.vn/dc/SoDiaChinh/TraCuuThuaDat"
   ]
  },
  {
   "cell_type": "code",
   "execution_count": null,
   "metadata": {},
   "outputs": [],
   "source": [
    "wards = driver.find_element(By.ID,value=\"select2-ddlPhuongXa-container\")"
   ]
  },
  {
   "cell_type": "code",
   "execution_count": 48,
   "metadata": {},
   "outputs": [],
   "source": [
    "wards.click()"
   ]
  },
  {
   "cell_type": "code",
   "execution_count": 49,
   "metadata": {},
   "outputs": [],
   "source": [
    "selection = driver.find_element(By.CLASS_NAME, value=\"select2-search__field\")\n",
    "selection.clear()\n",
    "selection.send_keys(cre['ward'])\n",
    "selection.send_keys(Keys.ENTER)"
   ]
  },
  {
   "cell_type": "code",
   "execution_count": 51,
   "metadata": {},
   "outputs": [],
   "source": [
    "search = driver.find_element(By.ID,value=\"btnSearch\")\n",
    "search.click()"
   ]
  },
  {
   "cell_type": "code",
   "execution_count": 53,
   "metadata": {},
   "outputs": [
    {
     "data": {
      "text/plain": [
       "[<selenium.webdriver.remote.webelement.WebElement (session=\"024a8e644e50fc3cf4d49b178ff6abee\", element=\"f.A1BD9FE3AD99B530B8FDCF24CC71CC2F.d.6FD19B39B214DA91F2300E4A6F14BB13.e.3705\")>,\n",
       " <selenium.webdriver.remote.webelement.WebElement (session=\"024a8e644e50fc3cf4d49b178ff6abee\", element=\"f.A1BD9FE3AD99B530B8FDCF24CC71CC2F.d.6FD19B39B214DA91F2300E4A6F14BB13.e.3731\")>,\n",
       " <selenium.webdriver.remote.webelement.WebElement (session=\"024a8e644e50fc3cf4d49b178ff6abee\", element=\"f.A1BD9FE3AD99B530B8FDCF24CC71CC2F.d.6FD19B39B214DA91F2300E4A6F14BB13.e.3757\")>,\n",
       " <selenium.webdriver.remote.webelement.WebElement (session=\"024a8e644e50fc3cf4d49b178ff6abee\", element=\"f.A1BD9FE3AD99B530B8FDCF24CC71CC2F.d.6FD19B39B214DA91F2300E4A6F14BB13.e.3783\")>,\n",
       " <selenium.webdriver.remote.webelement.WebElement (session=\"024a8e644e50fc3cf4d49b178ff6abee\", element=\"f.A1BD9FE3AD99B530B8FDCF24CC71CC2F.d.6FD19B39B214DA91F2300E4A6F14BB13.e.3809\")>,\n",
       " <selenium.webdriver.remote.webelement.WebElement (session=\"024a8e644e50fc3cf4d49b178ff6abee\", element=\"f.A1BD9FE3AD99B530B8FDCF24CC71CC2F.d.6FD19B39B214DA91F2300E4A6F14BB13.e.3835\")>,\n",
       " <selenium.webdriver.remote.webelement.WebElement (session=\"024a8e644e50fc3cf4d49b178ff6abee\", element=\"f.A1BD9FE3AD99B530B8FDCF24CC71CC2F.d.6FD19B39B214DA91F2300E4A6F14BB13.e.3861\")>,\n",
       " <selenium.webdriver.remote.webelement.WebElement (session=\"024a8e644e50fc3cf4d49b178ff6abee\", element=\"f.A1BD9FE3AD99B530B8FDCF24CC71CC2F.d.6FD19B39B214DA91F2300E4A6F14BB13.e.3887\")>,\n",
       " <selenium.webdriver.remote.webelement.WebElement (session=\"024a8e644e50fc3cf4d49b178ff6abee\", element=\"f.A1BD9FE3AD99B530B8FDCF24CC71CC2F.d.6FD19B39B214DA91F2300E4A6F14BB13.e.3913\")>,\n",
       " <selenium.webdriver.remote.webelement.WebElement (session=\"024a8e644e50fc3cf4d49b178ff6abee\", element=\"f.A1BD9FE3AD99B530B8FDCF24CC71CC2F.d.6FD19B39B214DA91F2300E4A6F14BB13.e.3939\")>]"
      ]
     },
     "execution_count": 53,
     "metadata": {},
     "output_type": "execute_result"
    }
   ],
   "source": [
    "list_data = driver.find_elements(By.CLASS_NAME, value=\"list-group.sdc-item\")\n",
    "list_data"
   ]
  },
  {
   "cell_type": "code",
   "execution_count": 54,
   "metadata": {},
   "outputs": [],
   "source": [
    "list_data[0].click()"
   ]
  },
  {
   "cell_type": "code",
   "execution_count": 56,
   "metadata": {},
   "outputs": [],
   "source": [
    "view = driver.find_element(By.ID, value=\"btnViewSoDiaChinh\")\n",
    "view.click()"
   ]
  }
 ],
 "metadata": {
  "kernelspec": {
   "display_name": ".venv",
   "language": "python",
   "name": "python3"
  },
  "language_info": {
   "codemirror_mode": {
    "name": "ipython",
    "version": 3
   },
   "file_extension": ".py",
   "mimetype": "text/x-python",
   "name": "python",
   "nbconvert_exporter": "python",
   "pygments_lexer": "ipython3",
   "version": "3.11.0"
  }
 },
 "nbformat": 4,
 "nbformat_minor": 2
}
